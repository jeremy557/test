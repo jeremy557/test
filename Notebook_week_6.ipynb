{
 "cells": [
  {
   "cell_type": "markdown",
   "id": "819f8b01",
   "metadata": {},
   "source": [
    "# Data Science Tools and Ecosystem"
   ]
  },
  {
   "cell_type": "markdown",
   "id": "c1f2d21c",
   "metadata": {},
   "source": [
    "In this notebook, Data Science and Ecosystem are summarized"
   ]
  },
  {
   "cell_type": "markdown",
   "id": "1502b5f0",
   "metadata": {},
   "source": [
    "Objectives:"
   ]
  },
  {
   "cell_type": "markdown",
   "id": "50bd3545",
   "metadata": {},
   "source": [
    "1. To appropriate some Jupyter notebook functionnalities\n",
    "2. To appropriate some Github functionnalities\n",
    "3. To Write some python code"
   ]
  },
  {
   "cell_type": "markdown",
   "id": "26ed3f53",
   "metadata": {},
   "source": [
    "Some of the popular languages that Data Scientists use are:"
   ]
  },
  {
   "cell_type": "markdown",
   "id": "2e590b66",
   "metadata": {},
   "source": [
    "1. Python\n",
    "2. R \n",
    "3. SQL"
   ]
  },
  {
   "cell_type": "markdown",
   "id": "5523898c",
   "metadata": {},
   "source": [
    "Some of the commonly used libraries used by Data Scientists include:"
   ]
  },
  {
   "cell_type": "markdown",
   "id": "1775e6fd",
   "metadata": {},
   "source": [
    "1. pandas for python\n",
    "2. caret for R \n",
    "3. TensorFlow for python"
   ]
  },
  {
   "cell_type": "markdown",
   "id": "7d51d8e3",
   "metadata": {},
   "source": [
    "|Data science Tools|\n",
    "|------------------|\n",
    "| Jupyter notebook |\n",
    "|     RStudio      |\n",
    "| IBM Watson studio|"
   ]
  },
  {
   "cell_type": "markdown",
   "id": "64b0803a",
   "metadata": {},
   "source": [
    "### Below are a few examples of evaluating arithemic expressions in Python"
   ]
  },
  {
   "cell_type": "code",
   "execution_count": 2,
   "id": "b5cfd057",
   "metadata": {},
   "outputs": [
    {
     "data": {
      "text/plain": [
       "17"
      ]
     },
     "execution_count": 2,
     "metadata": {},
     "output_type": "execute_result"
    }
   ],
   "source": [
    "#This a simple arithmetic expression to mutiply then add integers\n",
    "(3*4)+5"
   ]
  },
  {
   "cell_type": "code",
   "execution_count": 3,
   "id": "07a042f5",
   "metadata": {},
   "outputs": [
    {
     "data": {
      "text/plain": [
       "3.3333333333333335"
      ]
     },
     "execution_count": 3,
     "metadata": {},
     "output_type": "execute_result"
    }
   ],
   "source": [
    "def convert_min_to_hour(a):\n",
    "    b=a/60\n",
    "    return b\n",
    "\n",
    "convert_min_to_hour(200)\n",
    "#This will convert 200 minutes to hours by diving by 60."
   ]
  },
  {
   "cell_type": "markdown",
   "id": "646dfe2a",
   "metadata": {},
   "source": [
    "## Author"
   ]
  },
  {
   "cell_type": "markdown",
   "id": "671a2d65",
   "metadata": {},
   "source": [
    "Jérémy BLANC"
   ]
  },
  {
   "cell_type": "code",
   "execution_count": null,
   "id": "fed06e18",
   "metadata": {},
   "outputs": [],
   "source": []
  }
 ],
 "metadata": {
  "kernelspec": {
   "display_name": "Python 3 (ipykernel)",
   "language": "python",
   "name": "python3"
  },
  "language_info": {
   "codemirror_mode": {
    "name": "ipython",
    "version": 3
   },
   "file_extension": ".py",
   "mimetype": "text/x-python",
   "name": "python",
   "nbconvert_exporter": "python",
   "pygments_lexer": "ipython3",
   "version": "3.11.4"
  }
 },
 "nbformat": 4,
 "nbformat_minor": 5
}
